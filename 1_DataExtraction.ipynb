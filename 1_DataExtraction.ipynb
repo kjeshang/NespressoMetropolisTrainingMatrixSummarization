{
 "cells": [
  {
   "cell_type": "markdown",
   "metadata": {},
   "source": [
    "# Import Libraries"
   ]
  },
  {
   "cell_type": "code",
   "execution_count": 1,
   "metadata": {},
   "outputs": [],
   "source": [
    "import PyPDF2 as pypdf2\n",
    "import fitz\n",
    "import pandas as pd"
   ]
  },
  {
   "cell_type": "markdown",
   "metadata": {},
   "source": [
    "## Define Functions"
   ]
  },
  {
   "cell_type": "code",
   "execution_count": 2,
   "metadata": {},
   "outputs": [],
   "source": [
    "# Extract textual data from PDF\n",
    "def extract_text_from_pdf(pdf_path, start_page, end_page, package):\n",
    "    text = '';\n",
    "    \n",
    "    if package == \"pypdf2\":\n",
    "        with open(pdf_path, 'rb') as file:\n",
    "            pdf_reader = pypdf2.PdfReader(file);\n",
    "\n",
    "            for page_num in range(start_page, end_page+1):\n",
    "                page = pdf_reader.getPage(page_num);\n",
    "                page_text = page.extractText();\n",
    "                text += page_text;\n",
    "    elif package == \"fitz\":\n",
    "        pdf_document = fitz.open(pdf_path);\n",
    "\n",
    "        for page_num in range(start_page, end_page+1):\n",
    "            page = pdf_document.load_page(page_num);\n",
    "            page_text = page.get_text();\n",
    "            text += page_text;\n",
    "    \n",
    "    return text;"
   ]
  },
  {
   "cell_type": "code",
   "execution_count": 3,
   "metadata": {},
   "outputs": [],
   "source": [
    "# Get section names & page numbers from table of contents of PDF\n",
    "def get_section_and_pages(unclean_text):\n",
    "    unclean_text_list = unclean_text.split(\"\\n\")[5:13];\n",
    "    rough_list = [];\n",
    "    for text in unclean_text_list:\n",
    "        if \"p.\" not in text:\n",
    "            if \"1.\" not in text:\n",
    "                text = text.replace(\"p\",\"p.\");\n",
    "                rough_list.append(text);\n",
    "            else:\n",
    "                rough_list.append(unclean_text_list[0] + unclean_text_list[1]);\n",
    "        else:\n",
    "            rough_list.append(text);\n",
    "    rough_list.pop(1);\n",
    "\n",
    "    clean_list = [];\n",
    "    for text in rough_list:\n",
    "        rough_section = text.split(\"p.\")[0];\n",
    "        rough_pages = str(text.split(\"p.\")[1]);\n",
    "\n",
    "        section = rough_section.replace(\",\",\" \").replace(\"  \",\" \").rstrip();\n",
    "        \n",
    "        pages = rough_pages.strip();\n",
    "        if \"-\" in rough_pages:\n",
    "            pages = rough_pages.replace(\" -\",\"-\").strip();\n",
    "        if \".\" in rough_pages:\n",
    "            pages = rough_pages.replace(\".\",\"-\").strip();\n",
    "\n",
    "        start_page = pages;\n",
    "        end_page = pages;\n",
    "        if \"-\" in pages:\n",
    "            page_range = pages.split(\"-\");\n",
    "            start_page = int(page_range[0]);\n",
    "            end_page = int(page_range[1]);\n",
    "            if section == \"3.Health & Safety in boutique Level 1\":\n",
    "                end_page = end_page + 1;\n",
    "            elif section == \"5.Food Safety & Quality Level 1\":\n",
    "                start_page = start_page + 11;\n",
    "                end_page = start_page + 9;\n",
    "            elif section == \"6.Stock Management\":\n",
    "                end_page = end_page - 1;\n",
    "        else:\n",
    "            if section == \"7.Sustainability in BTQ\":\n",
    "                start_page = int(pages);\n",
    "                end_page = int(pages) + 1;\n",
    "\n",
    "        clean_list.append({\n",
    "            \"section\":section,\n",
    "            \"start_page\":start_page,\n",
    "            \"end_page\":end_page\n",
    "        });    \n",
    "\n",
    "    return clean_list;"
   ]
  },
  {
   "cell_type": "code",
   "execution_count": 4,
   "metadata": {},
   "outputs": [],
   "source": [
    "# Extract text from PDF per section (i.e., within range of start page & end page), and save in a dataframe\n",
    "def save_data_in_dataframe(pdf_path, dict_list, col_list, package):\n",
    "    data = [];\n",
    "    for elem in dict_list:\n",
    "        text = extract_text_from_pdf(pdf_path, elem.get(\"start_page\"), elem.get(\"end_page\"), package);\n",
    "        row = [elem.get(\"section\"), elem.get(\"start_page\"), elem.get(\"end_page\"), text];\n",
    "        data.append(row);\n",
    "    df = pd.DataFrame(data, columns=col_list);\n",
    "    return df;"
   ]
  },
  {
   "cell_type": "markdown",
   "metadata": {},
   "source": [
    "# Instantiate Constant Variables"
   ]
  },
  {
   "cell_type": "code",
   "execution_count": 5,
   "metadata": {},
   "outputs": [],
   "source": [
    "# The pdf document whereby text will be extracted from\n",
    "pdf_path = \"00_Security Health  Safety Sustainability MEMO for ALL BTQ Employees _ 2022_V2.pdf\";\n",
    "\n",
    "# Dictionary list containing section name, as well as start page and end page of respective section\n",
    "section_pages_list = get_section_and_pages(unclean_text=extract_text_from_pdf(pdf_path, 1, 1, \"pypdf2\"));\n",
    "\n",
    "# Filename for extracted Raw data that will be saved in Excel workbook\n",
    "filename = \"RawData.xlsx\";"
   ]
  },
  {
   "cell_type": "markdown",
   "metadata": {},
   "source": [
    "# Extract Data from PDF and save in Dataframe"
   ]
  },
  {
   "cell_type": "code",
   "execution_count": 6,
   "metadata": {},
   "outputs": [
    {
     "name": "stdout",
     "output_type": "stream",
     "text": [
      "<class 'pandas.core.frame.DataFrame'>\n",
      "RangeIndex: 7 entries, 0 to 6\n",
      "Data columns (total 4 columns):\n",
      " #   Column          Non-Null Count  Dtype \n",
      "---  ------          --------------  ----- \n",
      " 0   Section         7 non-null      object\n",
      " 1   Start Page      7 non-null      int64 \n",
      " 2   End Page        7 non-null      int64 \n",
      " 3   Extracted Text  7 non-null      object\n",
      "dtypes: int64(2), object(2)\n",
      "memory usage: 352.0+ bytes\n",
      "None\n"
     ]
    },
    {
     "data": {
      "text/html": [
       "<div>\n",
       "<style scoped>\n",
       "    .dataframe tbody tr th:only-of-type {\n",
       "        vertical-align: middle;\n",
       "    }\n",
       "\n",
       "    .dataframe tbody tr th {\n",
       "        vertical-align: top;\n",
       "    }\n",
       "\n",
       "    .dataframe thead th {\n",
       "        text-align: right;\n",
       "    }\n",
       "</style>\n",
       "<table border=\"1\" class=\"dataframe\">\n",
       "  <thead>\n",
       "    <tr style=\"text-align: right;\">\n",
       "      <th></th>\n",
       "      <th>Section</th>\n",
       "      <th>Start Page</th>\n",
       "      <th>End Page</th>\n",
       "      <th>Extracted Text</th>\n",
       "    </tr>\n",
       "  </thead>\n",
       "  <tbody>\n",
       "    <tr>\n",
       "      <th>0</th>\n",
       "      <td>1.Nestlé Nespresso Quality and SHE policies –Q...</td>\n",
       "      <td>3</td>\n",
       "      <td>6</td>\n",
       "      <td>QUALITY, SECURITY\\nHEALTH &amp; SAFETY \\nSUSTAINAB...</td>\n",
       "    </tr>\n",
       "    <tr>\n",
       "      <th>1</th>\n",
       "      <td>2.Emergency Preparedness and Response</td>\n",
       "      <td>7</td>\n",
       "      <td>11</td>\n",
       "      <td>QUALITY, SECURITY\\nHEALTH &amp; SAFETY \\nSUSTAINAB...</td>\n",
       "    </tr>\n",
       "    <tr>\n",
       "      <th>2</th>\n",
       "      <td>3.Health &amp; Safety in boutique Level 1</td>\n",
       "      <td>12</td>\n",
       "      <td>20</td>\n",
       "      <td>QUALITY, SECURITY\\nHEALTH &amp; SAFETY \\nSUSTAINAB...</td>\n",
       "    </tr>\n",
       "    <tr>\n",
       "      <th>3</th>\n",
       "      <td>4.Security Level 1</td>\n",
       "      <td>21</td>\n",
       "      <td>31</td>\n",
       "      <td>QUALITY, SECURITY\\nHEALTH &amp; SAFETY \\nSUSTAINAB...</td>\n",
       "    </tr>\n",
       "    <tr>\n",
       "      <th>4</th>\n",
       "      <td>5.Food Safety &amp; Quality Level 1</td>\n",
       "      <td>32</td>\n",
       "      <td>41</td>\n",
       "      <td>QUALITY, SECURITY\\nHEALTH &amp; SAFETY \\nSUSTAINAB...</td>\n",
       "    </tr>\n",
       "    <tr>\n",
       "      <th>5</th>\n",
       "      <td>6.Stock Management</td>\n",
       "      <td>42</td>\n",
       "      <td>45</td>\n",
       "      <td>QUALITY, SECURITY\\nHEALTH &amp; SAFETY, \\nSUSTAINA...</td>\n",
       "    </tr>\n",
       "    <tr>\n",
       "      <th>6</th>\n",
       "      <td>7.Sustainability in BTQ</td>\n",
       "      <td>46</td>\n",
       "      <td>47</td>\n",
       "      <td>QUALITY, SECURITY\\nHEALTH &amp; SAFETY, \\nSUSTAINA...</td>\n",
       "    </tr>\n",
       "  </tbody>\n",
       "</table>\n",
       "</div>"
      ],
      "text/plain": [
       "                                             Section  Start Page  End Page  \\\n",
       "0  1.Nestlé Nespresso Quality and SHE policies –Q...           3         6   \n",
       "1              2.Emergency Preparedness and Response           7        11   \n",
       "2              3.Health & Safety in boutique Level 1          12        20   \n",
       "3                                 4.Security Level 1          21        31   \n",
       "4                    5.Food Safety & Quality Level 1          32        41   \n",
       "5                                 6.Stock Management          42        45   \n",
       "6                            7.Sustainability in BTQ          46        47   \n",
       "\n",
       "                                      Extracted Text  \n",
       "0  QUALITY, SECURITY\\nHEALTH & SAFETY \\nSUSTAINAB...  \n",
       "1  QUALITY, SECURITY\\nHEALTH & SAFETY \\nSUSTAINAB...  \n",
       "2  QUALITY, SECURITY\\nHEALTH & SAFETY \\nSUSTAINAB...  \n",
       "3  QUALITY, SECURITY\\nHEALTH & SAFETY \\nSUSTAINAB...  \n",
       "4  QUALITY, SECURITY\\nHEALTH & SAFETY \\nSUSTAINAB...  \n",
       "5  QUALITY, SECURITY\\nHEALTH & SAFETY, \\nSUSTAINA...  \n",
       "6  QUALITY, SECURITY\\nHEALTH & SAFETY, \\nSUSTAINA...  "
      ]
     },
     "execution_count": 6,
     "metadata": {},
     "output_type": "execute_result"
    }
   ],
   "source": [
    "# Instantiate dataframe\n",
    "df = save_data_in_dataframe(\n",
    "    pdf_path=pdf_path, \n",
    "    dict_list=section_pages_list, \n",
    "    col_list=[\"Section\",\"Start Page\",\"End Page\",\"Extracted Text\"],\n",
    "    package=\"fitz\"\n",
    ");\n",
    "\n",
    "# General information regarding dataframe\n",
    "print(df.info());\n",
    "\n",
    "# Show dataframe\n",
    "df"
   ]
  },
  {
   "cell_type": "code",
   "execution_count": 9,
   "metadata": {},
   "outputs": [],
   "source": [
    "# Save dataframe to Excel workbook\n",
    "df.to_excel(filename, index=False);"
   ]
  }
 ],
 "metadata": {
  "kernelspec": {
   "display_name": "base",
   "language": "python",
   "name": "python3"
  },
  "language_info": {
   "codemirror_mode": {
    "name": "ipython",
    "version": 3
   },
   "file_extension": ".py",
   "mimetype": "text/x-python",
   "name": "python",
   "nbconvert_exporter": "python",
   "pygments_lexer": "ipython3",
   "version": "3.9.18"
  }
 },
 "nbformat": 4,
 "nbformat_minor": 2
}
