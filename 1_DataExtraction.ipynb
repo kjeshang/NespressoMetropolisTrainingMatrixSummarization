{
 "cells": [
  {
   "cell_type": "markdown",
   "metadata": {},
   "source": [
    "# Import Libraries"
   ]
  },
  {
   "cell_type": "code",
   "execution_count": 1,
   "metadata": {},
   "outputs": [],
   "source": [
    "import PyPDF2 as pypdf2\n",
    "import fitz\n",
    "import pandas as pd"
   ]
  },
  {
   "cell_type": "markdown",
   "metadata": {},
   "source": [
    "## Define Functions"
   ]
  },
  {
   "cell_type": "code",
   "execution_count": 2,
   "metadata": {},
   "outputs": [],
   "source": [
    "# Extract textual data from PDF\n",
    "def extract_text_from_pdf(pdf_path, start_page, end_page, package):\n",
    "    text = '';\n",
    "    \n",
    "    if package == \"pypdf2\":\n",
    "        with open(pdf_path, 'rb') as file:\n",
    "            pdf_reader = pypdf2.PdfReader(file);\n",
    "\n",
    "            for page_num in range(start_page, end_page+1):\n",
    "                page = pdf_reader.getPage(page_num);\n",
    "                page_text = page.extractText();\n",
    "                text += page_text;\n",
    "    elif package == \"fitz\":\n",
    "        pdf_document = fitz.open(pdf_path);\n",
    "\n",
    "        for page_num in range(start_page, end_page+1):\n",
    "            page = pdf_document.load_page(page_num);\n",
    "            page_text = page.get_text();\n",
    "            text += page_text;\n",
    "    \n",
    "    return text;"
   ]
  },
  {
   "cell_type": "code",
   "execution_count": 3,
   "metadata": {},
   "outputs": [],
   "source": [
    "# Get section names & page numbers from table of contents of PDF\n",
    "def get_section_and_pages(unclean_text):\n",
    "    unclean_text_list = unclean_text.split(\"\\n\")[5:13];\n",
    "    rough_list = [];\n",
    "    for text in unclean_text_list:\n",
    "        if \"p.\" not in text:\n",
    "            if \"1.\" not in text:\n",
    "                text = text.replace(\"p\",\"p.\");\n",
    "                rough_list.append(text);\n",
    "            else:\n",
    "                rough_list.append(unclean_text_list[0] + unclean_text_list[1]);\n",
    "        else:\n",
    "            rough_list.append(text);\n",
    "    rough_list.pop(1);\n",
    "\n",
    "    clean_list = [];\n",
    "    for text in rough_list:\n",
    "        rough_section = text.split(\"p.\")[0];\n",
    "        rough_pages = str(text.split(\"p.\")[1]);\n",
    "\n",
    "        section = rough_section.replace(\",\",\" \").replace(\"  \",\" \").rstrip();\n",
    "        \n",
    "        pages = rough_pages.strip();\n",
    "        if \"-\" in rough_pages:\n",
    "            pages = rough_pages.replace(\" -\",\"-\").strip();\n",
    "        if \".\" in rough_pages:\n",
    "            pages = rough_pages.replace(\".\",\"-\").strip();\n",
    "\n",
    "        start_page = pages;\n",
    "        end_page = pages;\n",
    "        if \"-\" in pages:\n",
    "            page_range = pages.split(\"-\");\n",
    "            start_page = int(page_range[0]);\n",
    "            end_page = int(page_range[1]);\n",
    "            if section == \"3.Health & Safety in boutique Level 1\":\n",
    "                end_page = end_page + 1;\n",
    "            elif section == \"5.Food Safety & Quality Level 1\":\n",
    "                start_page = start_page + 11;\n",
    "                end_page = start_page + 9;\n",
    "            elif section == \"6.Stock Management\":\n",
    "                end_page = end_page - 1;\n",
    "        else:\n",
    "            if section == \"7.Sustainability in BTQ\":\n",
    "                start_page = int(pages);\n",
    "                end_page = int(pages) + 1;\n",
    "\n",
    "        clean_list.append({\n",
    "            \"section\":section,\n",
    "            \"start_page\":start_page,\n",
    "            \"end_page\":end_page\n",
    "        });    \n",
    "\n",
    "    return clean_list;"
   ]
  },
  {
   "cell_type": "code",
   "execution_count": 4,
   "metadata": {},
   "outputs": [],
   "source": [
    "# Extract text from PDF per section (i.e., within range of start page & end page), and save in a dataframe\n",
    "def save_data_in_dataframe(pdf_path, dict_list, col_list, package):\n",
    "    data = [];\n",
    "    for elem in dict_list:\n",
    "        text = extract_text_from_pdf(pdf_path, elem.get(\"start_page\"), elem.get(\"end_page\"), package);\n",
    "        row = [elem.get(\"section\"), elem.get(\"start_page\"), elem.get(\"end_page\"), text];\n",
    "        data.append(row);\n",
    "    df = pd.DataFrame(data, columns=col_list);\n",
    "    return df;"
   ]
  },
  {
   "cell_type": "markdown",
   "metadata": {},
   "source": [
    "# Instantiate Constant Variables"
   ]
  },
  {
   "cell_type": "code",
   "execution_count": 5,
   "metadata": {},
   "outputs": [],
   "source": [
    "# The pdf document whereby text will be extracted from\n",
    "pdf_path = \"00_Security Health  Safety Sustainability MEMO for ALL BTQ Employees _ 2022_V2.pdf\";\n",
    "\n",
    "# Dictionary list containing section name, as well as start page and end page of respective section\n",
    "section_pages_list = get_section_and_pages(unclean_text=extract_text_from_pdf(pdf_path, 1, 1, \"pypdf2\"));\n",
    "\n",
    "# Filename for extracted Raw data that will be saved in Excel workbook\n",
    "filename = \"RawData.xlsx\";"
   ]
  },
  {
   "cell_type": "markdown",
   "metadata": {},
   "source": [
    "# Extract Data from PDF and save in Dataframe"
   ]
  },
  {
   "cell_type": "code",
   "execution_count": 6,
   "metadata": {},
   "outputs": [
    {
     "name": "stdout",
     "output_type": "stream",
     "text": [
      "<class 'pandas.core.frame.DataFrame'>\n",
      "RangeIndex: 7 entries, 0 to 6\n",
      "Data columns (total 4 columns):\n",
      " #   Column          Non-Null Count  Dtype \n",
      "---  ------          --------------  ----- \n",
      " 0   Section         7 non-null      object\n",
      " 1   Start Page      7 non-null      int64 \n",
      " 2   End Page        7 non-null      int64 \n",
      " 3   Extracted Text  7 non-null      object\n",
      "dtypes: int64(2), object(2)\n",
      "memory usage: 352.0+ bytes\n",
      "None\n"
     ]
    }
   ],
   "source": [
    "# Instantiate dataframe\n",
    "df = save_data_in_dataframe(\n",
    "    pdf_path=pdf_path, \n",
    "    dict_list=section_pages_list, \n",
    "    col_list=[\"Section\",\"Start Page\",\"End Page\",\"Extracted Text\"],\n",
    "    package=\"fitz\"\n",
    ");\n",
    "\n",
    "# General information regarding dataframe\n",
    "print(df.info());\n",
    "\n",
    "# Show dataframe\n",
    "# df"
   ]
  },
  {
   "cell_type": "code",
   "execution_count": 7,
   "metadata": {},
   "outputs": [],
   "source": [
    "# Save dataframe to Excel workbook\n",
    "df.to_excel(filename, index=False);"
   ]
  }
 ],
 "metadata": {
  "kernelspec": {
   "display_name": "base",
   "language": "python",
   "name": "python3"
  },
  "language_info": {
   "codemirror_mode": {
    "name": "ipython",
    "version": 3
   },
   "file_extension": ".py",
   "mimetype": "text/x-python",
   "name": "python",
   "nbconvert_exporter": "python",
   "pygments_lexer": "ipython3",
   "version": "3.9.18"
  }
 },
 "nbformat": 4,
 "nbformat_minor": 2
}
